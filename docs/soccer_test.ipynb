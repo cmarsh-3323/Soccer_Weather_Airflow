{
 "cells": [
  {
   "cell_type": "code",
   "execution_count": 1,
   "id": "c1d22f98",
   "metadata": {},
   "outputs": [],
   "source": [
    "import urllib.request\n",
    "import tempfile"
   ]
  },
  {
   "cell_type": "code",
   "execution_count": 2,
   "id": "53192679",
   "metadata": {},
   "outputs": [],
   "source": [
    "import pandas as pd\n",
    "import sqlite3"
   ]
  },
  {
   "cell_type": "code",
   "execution_count": 3,
   "id": "51b332c7",
   "metadata": {},
   "outputs": [],
   "source": [
    "# Temporary directory\n",
    "temp_dir = tempfile.gettempdir()"
   ]
  },
  {
   "cell_type": "code",
   "execution_count": 4,
   "id": "a063d733",
   "metadata": {},
   "outputs": [
    {
     "data": {
      "text/plain": [
       "('C:\\\\Users\\\\SHAKO\\\\AppData\\\\Local\\\\Tempdatabase.sqlite',\n",
       " <http.client.HTTPMessage at 0x1fb67883b20>)"
      ]
     },
     "execution_count": 4,
     "metadata": {},
     "output_type": "execute_result"
    }
   ],
   "source": [
    "# S3 URL for the SQLite file\n",
    "s3_url = 'https://awsbucket3323.s3.amazonaws.com/capstone/raw-data/database.sqlite'\n",
    "\n",
    "# Choose destination filepath I chose my desktop\n",
    "temp_file_path = temp_dir + 'database.sqlite'\n",
    "\n",
    "# Download the file\n",
    "urllib.request.urlretrieve(s3_url, temp_file_path)"
   ]
  },
  {
   "cell_type": "code",
   "execution_count": 5,
   "id": "6b46edd2",
   "metadata": {},
   "outputs": [],
   "source": [
    "# Connect to the SQLite database\n",
    "conn = sqlite3.connect(temp_file_path)"
   ]
  },
  {
   "cell_type": "code",
   "execution_count": 6,
   "id": "63f2d33f",
   "metadata": {},
   "outputs": [
    {
     "name": "stdout",
     "output_type": "stream",
     "text": [
      "[('sqlite_sequence',), ('Player_Attributes',), ('Player',), ('Match',), ('League',), ('Country',), ('Team',), ('Team_Attributes',)]\n"
     ]
    }
   ],
   "source": [
    "# locating the table names within are sqlite db\n",
    "cursor = conn.cursor()\n",
    "cursor.execute(\"SELECT name FROM sqlite_master WHERE type='table';\")\n",
    "tables = cursor.fetchall()\n",
    "print(tables)"
   ]
  },
  {
   "cell_type": "code",
   "execution_count": 7,
   "id": "27317dde",
   "metadata": {},
   "outputs": [
    {
     "name": "stdout",
     "output_type": "stream",
     "text": [
      "      id  country_id                    name\n",
      "0      1           1  Belgium Jupiler League\n",
      "1   1729        1729  England Premier League\n",
      "2   4769        4769          France Ligue 1\n",
      "3   7809        7809   Germany 1. Bundesliga\n",
      "4  10257       10257           Italy Serie A\n"
     ]
    }
   ],
   "source": [
    "# Showing contents of League table\n",
    "query = \"SELECT * FROM League\"\n",
    "df = pd.read_sql_query(query, conn)\n",
    "print(df.head())"
   ]
  },
  {
   "cell_type": "code",
   "execution_count": 8,
   "id": "01a36c4c",
   "metadata": {},
   "outputs": [],
   "source": [
    "# Saving League data as CSV file locally\n",
    "# Manually uploading file to my AWS S3 Bucket using the S3 Management Console\n",
    "df.to_csv(temp_dir + 'League.csv', index=False) "
   ]
  },
  {
   "cell_type": "code",
   "execution_count": 9,
   "id": "6f7b6460",
   "metadata": {},
   "outputs": [
    {
     "name": "stdout",
     "output_type": "stream",
     "text": [
      "      id     name\n",
      "0      1  Belgium\n",
      "1   1729  England\n",
      "2   4769   France\n",
      "3   7809  Germany\n",
      "4  10257    Italy\n"
     ]
    }
   ],
   "source": [
    "# Showing contents of Country table\n",
    "query = \"SELECT * FROM Country\"\n",
    "df = pd.read_sql_query(query, conn)\n",
    "print(df.head())"
   ]
  },
  {
   "cell_type": "code",
   "execution_count": 10,
   "id": "6f54feab",
   "metadata": {},
   "outputs": [],
   "source": [
    "# Saving Country data as CSV file locally\n",
    "# Manually uploading file to my AWS S3 Bucket using the S3 Management Console\n",
    "df.to_csv(temp_dir + 'Country.csv', index=False) "
   ]
  },
  {
   "cell_type": "code",
   "execution_count": 7,
   "id": "9e4fff70",
   "metadata": {},
   "outputs": [
    {
     "name": "stdout",
     "output_type": "stream",
     "text": [
      "   id  team_api_id  team_fifa_api_id     team_long_name team_short_name\n",
      "0   1         9987             673.0           KRC Genk             GEN\n",
      "1   2         9993             675.0       Beerschot AC             BAC\n",
      "2   3        10000           15005.0   SV Zulte-Waregem             ZUL\n",
      "3   4         9994            2007.0   Sporting Lokeren             LOK\n",
      "4   5         9984            1750.0  KSV Cercle Brugge             CEB\n"
     ]
    }
   ],
   "source": [
    "# Showing contents of Team table\n",
    "query = \"SELECT * FROM Team\"\n",
    "df = pd.read_sql_query(query, conn)\n",
    "print(df.head())"
   ]
  },
  {
   "cell_type": "code",
   "execution_count": 8,
   "id": "9831a292",
   "metadata": {},
   "outputs": [],
   "source": [
    "# Saving Team data as CSV file locally\n",
    "# Manually uploading file to my AWS S3 Bucket using the S3 Management Console\n",
    "df.to_csv(temp_dir + 'Team.csv', index=False) "
   ]
  },
  {
   "cell_type": "code",
   "execution_count": 12,
   "id": "0a1a1860",
   "metadata": {},
   "outputs": [
    {
     "name": "stdout",
     "output_type": "stream",
     "text": [
      "   id  player_fifa_api_id  player_api_id                 date  overall_rating  \\\n",
      "0   1              218353         505942  2016-02-18 00:00:00            67.0   \n",
      "1   2              218353         505942  2015-11-19 00:00:00            67.0   \n",
      "2   3              218353         505942  2015-09-21 00:00:00            62.0   \n",
      "3   4              218353         505942  2015-03-20 00:00:00            61.0   \n",
      "4   5              218353         505942  2007-02-22 00:00:00            61.0   \n",
      "\n",
      "   potential preferred_foot attacking_work_rate defensive_work_rate  crossing  \\\n",
      "0       71.0          right              medium              medium      49.0   \n",
      "1       71.0          right              medium              medium      49.0   \n",
      "2       66.0          right              medium              medium      49.0   \n",
      "3       65.0          right              medium              medium      48.0   \n",
      "4       65.0          right              medium              medium      48.0   \n",
      "\n",
      "   ...  vision  penalties  marking  standing_tackle  sliding_tackle  \\\n",
      "0  ...    54.0       48.0     65.0             69.0            69.0   \n",
      "1  ...    54.0       48.0     65.0             69.0            69.0   \n",
      "2  ...    54.0       48.0     65.0             66.0            69.0   \n",
      "3  ...    53.0       47.0     62.0             63.0            66.0   \n",
      "4  ...    53.0       47.0     62.0             63.0            66.0   \n",
      "\n",
      "   gk_diving  gk_handling  gk_kicking  gk_positioning  gk_reflexes  \n",
      "0        6.0         11.0        10.0             8.0          8.0  \n",
      "1        6.0         11.0        10.0             8.0          8.0  \n",
      "2        6.0         11.0        10.0             8.0          8.0  \n",
      "3        5.0         10.0         9.0             7.0          7.0  \n",
      "4        5.0         10.0         9.0             7.0          7.0  \n",
      "\n",
      "[5 rows x 42 columns]\n"
     ]
    }
   ],
   "source": [
    "# Showing contents of Player_Attributes table\n",
    "query = \"SELECT * FROM Player_Attributes\"\n",
    "df = pd.read_sql_query(query, conn)\n",
    "print(df.head())"
   ]
  },
  {
   "cell_type": "code",
   "execution_count": 13,
   "id": "ba9cd36a",
   "metadata": {},
   "outputs": [
    {
     "name": "stdout",
     "output_type": "stream",
     "text": [
      "   id  player_fifa_api_id  player_api_id       date  overall_rating  \\\n",
      "0   1              218353         505942 2016-02-18            67.0   \n",
      "1   2              218353         505942 2015-11-19            67.0   \n",
      "2   3              218353         505942 2015-09-21            62.0   \n",
      "3   4              218353         505942 2015-03-20            61.0   \n",
      "4   5              218353         505942 2007-02-22            61.0   \n",
      "\n",
      "   potential preferred_foot attacking_work_rate defensive_work_rate  crossing  \\\n",
      "0       71.0          right              medium              medium      49.0   \n",
      "1       71.0          right              medium              medium      49.0   \n",
      "2       66.0          right              medium              medium      49.0   \n",
      "3       65.0          right              medium              medium      48.0   \n",
      "4       65.0          right              medium              medium      48.0   \n",
      "\n",
      "   ...  vision  penalties  marking  standing_tackle  sliding_tackle  \\\n",
      "0  ...    54.0       48.0     65.0             69.0            69.0   \n",
      "1  ...    54.0       48.0     65.0             69.0            69.0   \n",
      "2  ...    54.0       48.0     65.0             66.0            69.0   \n",
      "3  ...    53.0       47.0     62.0             63.0            66.0   \n",
      "4  ...    53.0       47.0     62.0             63.0            66.0   \n",
      "\n",
      "   gk_diving  gk_handling  gk_kicking  gk_positioning  gk_reflexes  \n",
      "0        6.0         11.0        10.0             8.0          8.0  \n",
      "1        6.0         11.0        10.0             8.0          8.0  \n",
      "2        6.0         11.0        10.0             8.0          8.0  \n",
      "3        5.0         10.0         9.0             7.0          7.0  \n",
      "4        5.0         10.0         9.0             7.0          7.0  \n",
      "\n",
      "[5 rows x 42 columns]\n"
     ]
    }
   ],
   "source": [
    "# Converting 'date' column to datetime format\n",
    "df['date'] = pd.to_datetime(df['date'])\n",
    "print(df.head())"
   ]
  },
  {
   "cell_type": "code",
   "execution_count": 14,
   "id": "cc0b548b",
   "metadata": {},
   "outputs": [],
   "source": [
    "# Saving Player Attributes as CSV file locally\n",
    "# Manually uploading file to my AWS S3 Bucket using the S3 Management Console\n",
    "df.to_csv(temp_dir + 'Player_Attributes.csv', index=False) "
   ]
  },
  {
   "cell_type": "code",
   "execution_count": 7,
   "id": "b36adba6",
   "metadata": {},
   "outputs": [
    {
     "name": "stdout",
     "output_type": "stream",
     "text": [
      "   id  country_id  league_id     season  stage                 date  \\\n",
      "0   1           1          1  2008/2009      1  2008-08-17 00:00:00   \n",
      "1   2           1          1  2008/2009      1  2008-08-16 00:00:00   \n",
      "2   3           1          1  2008/2009      1  2008-08-16 00:00:00   \n",
      "3   4           1          1  2008/2009      1  2008-08-17 00:00:00   \n",
      "4   5           1          1  2008/2009      1  2008-08-16 00:00:00   \n",
      "\n",
      "   match_api_id  home_team_api_id  away_team_api_id  home_team_goal  ...  \\\n",
      "0        492473              9987              9993               1  ...   \n",
      "1        492474             10000              9994               0  ...   \n",
      "2        492475              9984              8635               0  ...   \n",
      "3        492476              9991              9998               5  ...   \n",
      "4        492477              7947              9985               1  ...   \n",
      "\n",
      "    SJA   VCH   VCD   VCA   GBH   GBD   GBA   BSH   BSD   BSA  \n",
      "0  4.00  1.65  3.40  4.50  1.78  3.25  4.00  1.73  3.40  4.20  \n",
      "1  3.80  2.00  3.25  3.25  1.85  3.25  3.75  1.91  3.25  3.60  \n",
      "2  2.50  2.35  3.25  2.65  2.50  3.20  2.50  2.30  3.20  2.75  \n",
      "3  7.50  1.45  3.75  6.50  1.50  3.75  5.50  1.44  3.75  6.50  \n",
      "4  1.73  4.50  3.40  1.65  4.50  3.50  1.65  4.75  3.30  1.67  \n",
      "\n",
      "[5 rows x 115 columns]\n"
     ]
    }
   ],
   "source": [
    "query = \"SELECT * FROM Match\"\n",
    "df = pd.read_sql_query(query, conn)\n",
    "print(df.head())"
   ]
  },
  {
   "cell_type": "code",
   "execution_count": 8,
   "id": "e5f247e8",
   "metadata": {},
   "outputs": [],
   "source": [
    "# Converting 'date' column to datetime format\n",
    "df['date'] = pd.to_datetime(df['date'])"
   ]
  },
  {
   "cell_type": "code",
   "execution_count": 9,
   "id": "a23ae13c",
   "metadata": {},
   "outputs": [],
   "source": [
    "# Adding 3 new columns for year, month, day\n",
    "df['date_year'] = df['date'].dt.year\n",
    "df['date_month'] = df['date'].dt.month\n",
    "df['date_day'] = df['date'].dt.day"
   ]
  },
  {
   "cell_type": "code",
   "execution_count": 10,
   "id": "5bddec37",
   "metadata": {},
   "outputs": [
    {
     "name": "stdout",
     "output_type": "stream",
     "text": [
      "   id  country_id  league_id     season  stage       date  match_api_id  \\\n",
      "0   1           1          1  2008/2009      1 2008-08-17        492473   \n",
      "1   2           1          1  2008/2009      1 2008-08-16        492474   \n",
      "2   3           1          1  2008/2009      1 2008-08-16        492475   \n",
      "3   4           1          1  2008/2009      1 2008-08-17        492476   \n",
      "4   5           1          1  2008/2009      1 2008-08-16        492477   \n",
      "\n",
      "   home_team_api_id  away_team_api_id  home_team_goal  ...   VCA   GBH   GBD  \\\n",
      "0              9987              9993               1  ...  4.50  1.78  3.25   \n",
      "1             10000              9994               0  ...  3.25  1.85  3.25   \n",
      "2              9984              8635               0  ...  2.65  2.50  3.20   \n",
      "3              9991              9998               5  ...  6.50  1.50  3.75   \n",
      "4              7947              9985               1  ...  1.65  4.50  3.50   \n",
      "\n",
      "    GBA   BSH   BSD   BSA  date_year  date_month  date_day  \n",
      "0  4.00  1.73  3.40  4.20       2008           8        17  \n",
      "1  3.75  1.91  3.25  3.60       2008           8        16  \n",
      "2  2.50  2.30  3.20  2.75       2008           8        16  \n",
      "3  5.50  1.44  3.75  6.50       2008           8        17  \n",
      "4  1.65  4.75  3.30  1.67       2008           8        16  \n",
      "\n",
      "[5 rows x 118 columns]\n"
     ]
    }
   ],
   "source": [
    "# Checking columns match with date column\n",
    "print(df.head())"
   ]
  },
  {
   "cell_type": "code",
   "execution_count": 11,
   "id": "9c927ab1",
   "metadata": {},
   "outputs": [],
   "source": [
    "# Saving Match data as CSV file locally\n",
    "# Manually uploading file to my AWS S3 Bucket using the S3 Management Console\n",
    "df.to_csv(temp_dir + 'Match.csv', index=False) "
   ]
  },
  {
   "cell_type": "code",
   "execution_count": 15,
   "id": "e96134aa",
   "metadata": {},
   "outputs": [
    {
     "name": "stdout",
     "output_type": "stream",
     "text": [
      "   id  team_fifa_api_id  team_api_id                 date  buildUpPlaySpeed  \\\n",
      "0   1               434         9930  2010-02-22 00:00:00                60   \n",
      "1   2               434         9930  2014-09-19 00:00:00                52   \n",
      "2   3               434         9930  2015-09-10 00:00:00                47   \n",
      "3   4                77         8485  2010-02-22 00:00:00                70   \n",
      "4   5                77         8485  2011-02-22 00:00:00                47   \n",
      "\n",
      "  buildUpPlaySpeedClass  buildUpPlayDribbling buildUpPlayDribblingClass  \\\n",
      "0              Balanced                   NaN                    Little   \n",
      "1              Balanced                  48.0                    Normal   \n",
      "2              Balanced                  41.0                    Normal   \n",
      "3                  Fast                   NaN                    Little   \n",
      "4              Balanced                   NaN                    Little   \n",
      "\n",
      "   buildUpPlayPassing buildUpPlayPassingClass  ... chanceCreationShooting  \\\n",
      "0                  50                   Mixed  ...                     55   \n",
      "1                  56                   Mixed  ...                     64   \n",
      "2                  54                   Mixed  ...                     64   \n",
      "3                  70                    Long  ...                     70   \n",
      "4                  52                   Mixed  ...                     52   \n",
      "\n",
      "   chanceCreationShootingClass chanceCreationPositioningClass  \\\n",
      "0                       Normal                      Organised   \n",
      "1                       Normal                      Organised   \n",
      "2                       Normal                      Organised   \n",
      "3                         Lots                      Organised   \n",
      "4                       Normal                      Organised   \n",
      "\n",
      "   defencePressure defencePressureClass  defenceAggression  \\\n",
      "0               50               Medium                 55   \n",
      "1               47               Medium                 44   \n",
      "2               47               Medium                 44   \n",
      "3               60               Medium                 70   \n",
      "4               47               Medium                 47   \n",
      "\n",
      "  defenceAggressionClass defenceTeamWidth  defenceTeamWidthClass  \\\n",
      "0                  Press               45                 Normal   \n",
      "1                  Press               54                 Normal   \n",
      "2                  Press               54                 Normal   \n",
      "3                 Double               70                   Wide   \n",
      "4                  Press               52                 Normal   \n",
      "\n",
      "  defenceDefenderLineClass  \n",
      "0                    Cover  \n",
      "1                    Cover  \n",
      "2                    Cover  \n",
      "3                    Cover  \n",
      "4                    Cover  \n",
      "\n",
      "[5 rows x 25 columns]\n"
     ]
    }
   ],
   "source": [
    "query = \"SELECT * FROM Team_Attributes\"\n",
    "df = pd.read_sql_query(query, conn)\n",
    "print(df.head())"
   ]
  },
  {
   "cell_type": "code",
   "execution_count": 16,
   "id": "3b4ff7f3",
   "metadata": {},
   "outputs": [
    {
     "name": "stdout",
     "output_type": "stream",
     "text": [
      "   id  team_fifa_api_id  team_api_id       date  buildUpPlaySpeed  \\\n",
      "0   1               434         9930 2010-02-22                60   \n",
      "1   2               434         9930 2014-09-19                52   \n",
      "2   3               434         9930 2015-09-10                47   \n",
      "3   4                77         8485 2010-02-22                70   \n",
      "4   5                77         8485 2011-02-22                47   \n",
      "\n",
      "  buildUpPlaySpeedClass  buildUpPlayDribbling buildUpPlayDribblingClass  \\\n",
      "0              Balanced                   NaN                    Little   \n",
      "1              Balanced                  48.0                    Normal   \n",
      "2              Balanced                  41.0                    Normal   \n",
      "3                  Fast                   NaN                    Little   \n",
      "4              Balanced                   NaN                    Little   \n",
      "\n",
      "   buildUpPlayPassing buildUpPlayPassingClass  ... chanceCreationShooting  \\\n",
      "0                  50                   Mixed  ...                     55   \n",
      "1                  56                   Mixed  ...                     64   \n",
      "2                  54                   Mixed  ...                     64   \n",
      "3                  70                    Long  ...                     70   \n",
      "4                  52                   Mixed  ...                     52   \n",
      "\n",
      "   chanceCreationShootingClass chanceCreationPositioningClass  \\\n",
      "0                       Normal                      Organised   \n",
      "1                       Normal                      Organised   \n",
      "2                       Normal                      Organised   \n",
      "3                         Lots                      Organised   \n",
      "4                       Normal                      Organised   \n",
      "\n",
      "   defencePressure defencePressureClass  defenceAggression  \\\n",
      "0               50               Medium                 55   \n",
      "1               47               Medium                 44   \n",
      "2               47               Medium                 44   \n",
      "3               60               Medium                 70   \n",
      "4               47               Medium                 47   \n",
      "\n",
      "  defenceAggressionClass defenceTeamWidth  defenceTeamWidthClass  \\\n",
      "0                  Press               45                 Normal   \n",
      "1                  Press               54                 Normal   \n",
      "2                  Press               54                 Normal   \n",
      "3                 Double               70                   Wide   \n",
      "4                  Press               52                 Normal   \n",
      "\n",
      "  defenceDefenderLineClass  \n",
      "0                    Cover  \n",
      "1                    Cover  \n",
      "2                    Cover  \n",
      "3                    Cover  \n",
      "4                    Cover  \n",
      "\n",
      "[5 rows x 25 columns]\n"
     ]
    }
   ],
   "source": [
    "# Converting 'date' column to datetime format\n",
    "df['date'] = pd.to_datetime(df['date'])\n",
    "print(df.head())"
   ]
  },
  {
   "cell_type": "code",
   "execution_count": 17,
   "id": "235298ed",
   "metadata": {},
   "outputs": [],
   "source": [
    "# Saving Team_Attributes as CSV file locally\n",
    "# Manually uploading file to my AWS S3 Bucket using the S3 Management Console\n",
    "df.to_csv(temp_dir + 'Team_Attributes.csv', index=False) "
   ]
  },
  {
   "cell_type": "code",
   "execution_count": 28,
   "id": "d6396500",
   "metadata": {},
   "outputs": [
    {
     "name": "stdout",
     "output_type": "stream",
     "text": [
      "   id  player_api_id         player_name  player_fifa_api_id  \\\n",
      "0   1         505942  Aaron Appindangoye              218353   \n",
      "1   2         155782     Aaron Cresswell              189615   \n",
      "2   3         162549         Aaron Doran              186170   \n",
      "3   4          30572       Aaron Galindo              140161   \n",
      "4   5          23780        Aaron Hughes               17725   \n",
      "\n",
      "              birthday  height  weight  \n",
      "0  1992-02-29 00:00:00  182.88     187  \n",
      "1  1989-12-15 00:00:00  170.18     146  \n",
      "2  1991-05-13 00:00:00  170.18     163  \n",
      "3  1982-05-08 00:00:00  182.88     198  \n",
      "4  1979-11-08 00:00:00  182.88     154  \n"
     ]
    }
   ],
   "source": [
    "query = \"SELECT * FROM Player\"\n",
    "df = pd.read_sql_query(query, conn)\n",
    "print(df.head())"
   ]
  },
  {
   "cell_type": "code",
   "execution_count": 29,
   "id": "867b874c",
   "metadata": {},
   "outputs": [],
   "source": [
    "# Saving Player data as CSV file locally\n",
    "# Manually uploading file to my AWS S3 Bucket using the S3 Management Console\n",
    "df.to_csv(temp_dir + 'Player.csv', index=False) "
   ]
  },
  {
   "cell_type": "code",
   "execution_count": 7,
   "id": "0c52ba9e",
   "metadata": {},
   "outputs": [
    {
     "name": "stdout",
     "output_type": "stream",
     "text": [
      "Table: sqlite_sequence\n",
      "Columns: ['name', 'seq']\n",
      "Number of Rows: 7\n",
      "\n",
      "Table: Player_Attributes\n",
      "Columns: ['id', 'player_fifa_api_id', 'player_api_id', 'date', 'overall_rating', 'potential', 'preferred_foot', 'attacking_work_rate', 'defensive_work_rate', 'crossing', 'finishing', 'heading_accuracy', 'short_passing', 'volleys', 'dribbling', 'curve', 'free_kick_accuracy', 'long_passing', 'ball_control', 'acceleration', 'sprint_speed', 'agility', 'reactions', 'balance', 'shot_power', 'jumping', 'stamina', 'strength', 'long_shots', 'aggression', 'interceptions', 'positioning', 'vision', 'penalties', 'marking', 'standing_tackle', 'sliding_tackle', 'gk_diving', 'gk_handling', 'gk_kicking', 'gk_positioning', 'gk_reflexes']\n",
      "Number of Rows: 183978\n",
      "\n",
      "Table: Player\n",
      "Columns: ['id', 'player_api_id', 'player_name', 'player_fifa_api_id', 'birthday', 'height', 'weight']\n",
      "Number of Rows: 11060\n",
      "\n",
      "Table: Match\n",
      "Columns: ['id', 'country_id', 'league_id', 'season', 'stage', 'date', 'match_api_id', 'home_team_api_id', 'away_team_api_id', 'home_team_goal', 'away_team_goal', 'home_player_X1', 'home_player_X2', 'home_player_X3', 'home_player_X4', 'home_player_X5', 'home_player_X6', 'home_player_X7', 'home_player_X8', 'home_player_X9', 'home_player_X10', 'home_player_X11', 'away_player_X1', 'away_player_X2', 'away_player_X3', 'away_player_X4', 'away_player_X5', 'away_player_X6', 'away_player_X7', 'away_player_X8', 'away_player_X9', 'away_player_X10', 'away_player_X11', 'home_player_Y1', 'home_player_Y2', 'home_player_Y3', 'home_player_Y4', 'home_player_Y5', 'home_player_Y6', 'home_player_Y7', 'home_player_Y8', 'home_player_Y9', 'home_player_Y10', 'home_player_Y11', 'away_player_Y1', 'away_player_Y2', 'away_player_Y3', 'away_player_Y4', 'away_player_Y5', 'away_player_Y6', 'away_player_Y7', 'away_player_Y8', 'away_player_Y9', 'away_player_Y10', 'away_player_Y11', 'home_player_1', 'home_player_2', 'home_player_3', 'home_player_4', 'home_player_5', 'home_player_6', 'home_player_7', 'home_player_8', 'home_player_9', 'home_player_10', 'home_player_11', 'away_player_1', 'away_player_2', 'away_player_3', 'away_player_4', 'away_player_5', 'away_player_6', 'away_player_7', 'away_player_8', 'away_player_9', 'away_player_10', 'away_player_11', 'goal', 'shoton', 'shotoff', 'foulcommit', 'card', 'cross', 'corner', 'possession', 'B365H', 'B365D', 'B365A', 'BWH', 'BWD', 'BWA', 'IWH', 'IWD', 'IWA', 'LBH', 'LBD', 'LBA', 'PSH', 'PSD', 'PSA', 'WHH', 'WHD', 'WHA', 'SJH', 'SJD', 'SJA', 'VCH', 'VCD', 'VCA', 'GBH', 'GBD', 'GBA', 'BSH', 'BSD', 'BSA']\n",
      "Number of Rows: 25979\n",
      "\n",
      "Table: League\n",
      "Columns: ['id', 'country_id', 'name']\n",
      "Number of Rows: 11\n",
      "\n",
      "Table: Country\n",
      "Columns: ['id', 'name']\n",
      "Number of Rows: 11\n",
      "\n",
      "Table: Team\n",
      "Columns: ['id', 'team_api_id', 'team_fifa_api_id', 'team_long_name', 'team_short_name']\n",
      "Number of Rows: 299\n",
      "\n",
      "Table: Team_Attributes\n",
      "Columns: ['id', 'team_fifa_api_id', 'team_api_id', 'date', 'buildUpPlaySpeed', 'buildUpPlaySpeedClass', 'buildUpPlayDribbling', 'buildUpPlayDribblingClass', 'buildUpPlayPassing', 'buildUpPlayPassingClass', 'buildUpPlayPositioningClass', 'chanceCreationPassing', 'chanceCreationPassingClass', 'chanceCreationCrossing', 'chanceCreationCrossingClass', 'chanceCreationShooting', 'chanceCreationShootingClass', 'chanceCreationPositioningClass', 'defencePressure', 'defencePressureClass', 'defenceAggression', 'defenceAggressionClass', 'defenceTeamWidth', 'defenceTeamWidthClass', 'defenceDefenderLineClass']\n",
      "Number of Rows: 1458\n",
      "\n"
     ]
    }
   ],
   "source": [
    "# Loop through the tables to see names, columns and rows\n",
    "for table in tables:\n",
    "    table_name = table[0]\n",
    "    df = pd.read_sql_query(f\"SELECT * FROM {table_name}\", conn)\n",
    "    print(f\"Table: {table_name}\")\n",
    "    print(f\"Columns: {df.columns.tolist()}\")\n",
    "    print(f\"Number of Rows: {len(df)}\\n\")"
   ]
  },
  {
   "cell_type": "markdown",
   "id": "10763ce1",
   "metadata": {},
   "source": [
    "## Combining the League and Country tables into one table"
   ]
  },
  {
   "cell_type": "code",
   "execution_count": null,
   "id": "fe201916",
   "metadata": {},
   "outputs": [],
   "source": [
    "# This was an attempt for the star schema but ended up not using Euro_League table\n",
    "# Showcasing how I combined the tables and renamed the columns"
   ]
  },
  {
   "cell_type": "code",
   "execution_count": 9,
   "id": "e2825a3a",
   "metadata": {},
   "outputs": [],
   "source": [
    "# Creating the new combined table\n",
    "create_query = '''\n",
    "    CREATE TABLE IF NOT EXISTS Euro_Leagues (\n",
    "        id INTEGER PRIMARY KEY,\n",
    "        league_id INTEGER,\n",
    "        country_id INTEGER,\n",
    "        league_name TEXT,\n",
    "        country_name TEXT\n",
    "    );\n",
    "'''"
   ]
  },
  {
   "cell_type": "code",
   "execution_count": 10,
   "id": "df292382",
   "metadata": {},
   "outputs": [
    {
     "data": {
      "text/plain": [
       "<sqlite3.Cursor at 0x1f459088030>"
      ]
     },
     "execution_count": 10,
     "metadata": {},
     "output_type": "execute_result"
    }
   ],
   "source": [
    "# Execute the new table \n",
    "cursor.execute(create_query)"
   ]
  },
  {
   "cell_type": "code",
   "execution_count": 11,
   "id": "34c56880",
   "metadata": {},
   "outputs": [],
   "source": [
    "# Insert data from League and Country tables\n",
    "cursor.execute(\"SELECT id, country_id, name FROM League\")\n",
    "league_data = cursor.fetchall()\n",
    "\n",
    "for row in league_data:\n",
    "    cursor.execute(\"INSERT INTO Euro_Leagues (league_id, country_id, league_name, country_name) VALUES (?, ?, ?, ?)\", (row[0], row[1], row[2], None))\n",
    "\n",
    "cursor.execute(\"SELECT id, name FROM Country\")\n",
    "country_data = cursor.fetchall()\n",
    "\n",
    "for row in country_data:\n",
    "    cursor.execute(\"UPDATE Euro_Leagues SET country_name=? WHERE country_id=?\", (row[1], row[0]))\n"
   ]
  },
  {
   "cell_type": "code",
   "execution_count": 12,
   "id": "fe28013d",
   "metadata": {},
   "outputs": [
    {
     "name": "stdout",
     "output_type": "stream",
     "text": [
      "    id  league_id  country_id               league_name country_name\n",
      "0    1          1           1    Belgium Jupiler League      Belgium\n",
      "1    2       1729        1729    England Premier League      England\n",
      "2    3       4769        4769            France Ligue 1       France\n",
      "3    4       7809        7809     Germany 1. Bundesliga      Germany\n",
      "4    5      10257       10257             Italy Serie A        Italy\n",
      "5    6      13274       13274    Netherlands Eredivisie  Netherlands\n",
      "6    7      15722       15722        Poland Ekstraklasa       Poland\n",
      "7    8      17642       17642  Portugal Liga ZON Sagres     Portugal\n",
      "8    9      19694       19694   Scotland Premier League     Scotland\n",
      "9   10      21518       21518           Spain LIGA BBVA        Spain\n",
      "10  11      24558       24558  Switzerland Super League  Switzerland\n"
     ]
    }
   ],
   "source": [
    "# Checking columns and rows\n",
    "# We can see there are the matching 11 rows with correct country names shown by the league name info\n",
    "query = \"SELECT * FROM Euro_Leagues\"\n",
    "df = pd.read_sql_query(query, conn)\n",
    "print(df.head(20))"
   ]
  },
  {
   "cell_type": "code",
   "execution_count": 13,
   "id": "e033e335",
   "metadata": {},
   "outputs": [],
   "source": [
    "# Saving Euro_Leagues data as CSV file locally\n",
    "# Manually uploading file to my AWS S3 Bucket using the S3 Management Console\n",
    "df.to_csv(temp_dir + 'Euro_Leagues.csv', index=False) "
   ]
  },
  {
   "cell_type": "code",
   "execution_count": 18,
   "id": "08031dc9",
   "metadata": {},
   "outputs": [],
   "source": [
    "# Close the connection \n",
    "conn.close()"
   ]
  }
 ],
 "metadata": {
  "kernelspec": {
   "display_name": "Python 3 (ipykernel)",
   "language": "python",
   "name": "python3"
  },
  "language_info": {
   "codemirror_mode": {
    "name": "ipython",
    "version": 3
   },
   "file_extension": ".py",
   "mimetype": "text/x-python",
   "name": "python",
   "nbconvert_exporter": "python",
   "pygments_lexer": "ipython3",
   "version": "3.8.18"
  }
 },
 "nbformat": 4,
 "nbformat_minor": 5
}

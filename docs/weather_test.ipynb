{
 "cells": [
  {
   "cell_type": "code",
   "execution_count": 1,
   "id": "6475e6b8",
   "metadata": {},
   "outputs": [],
   "source": [
    "import pandas as pd\n",
    "import boto3"
   ]
  },
  {
   "cell_type": "code",
   "execution_count": 2,
   "id": "a9bebca4",
   "metadata": {},
   "outputs": [],
   "source": [
    "# Initialize an S3 client\n",
    "s3 = boto3.client('s3')\n",
    "\n",
    "# Define the S3 bucket and file path\n",
    "bucket_name = 'awsbucket3323'\n",
    "weather_file_path = 'capstone/raw-data/GlobalLandTemperaturesByCity.csv'\n",
    "\n",
    "# Read our weather CSV file directly into a DataFrame\n",
    "df = pd.read_csv(f's3://{bucket_name}/{weather_file_path}')"
   ]
  },
  {
   "cell_type": "code",
   "execution_count": 3,
   "id": "cf130fa9",
   "metadata": {},
   "outputs": [
    {
     "name": "stdout",
     "output_type": "stream",
     "text": [
      "           dt  AverageTemperature  AverageTemperatureUncertainty   City  Country Latitude Longitude\n",
      "0  1743-11-01               6.068                          1.737  Århus  Denmark   57.05N    10.33E\n",
      "1  1743-12-01                 NaN                            NaN  Århus  Denmark   57.05N    10.33E\n",
      "2  1744-01-01                 NaN                            NaN  Århus  Denmark   57.05N    10.33E\n",
      "3  1744-02-01                 NaN                            NaN  Århus  Denmark   57.05N    10.33E\n",
      "4  1744-03-01                 NaN                            NaN  Århus  Denmark   57.05N    10.33E\n"
     ]
    }
   ],
   "source": [
    "# A look at our city weather data\n",
    "df_str = df.head().to_string(index=True, header=True)\n",
    "print(df_str)"
   ]
  },
  {
   "cell_type": "code",
   "execution_count": 4,
   "id": "21fceca5",
   "metadata": {},
   "outputs": [
    {
     "name": "stdout",
     "output_type": "stream",
     "text": [
      "dt                               8599212\n",
      "AverageTemperature               8235082\n",
      "AverageTemperatureUncertainty    8235082\n",
      "City                             8599212\n",
      "Country                          8599212\n",
      "Latitude                         8599212\n",
      "Longitude                        8599212\n",
      "dtype: int64\n"
     ]
    }
   ],
   "source": [
    "# Need to filter to reduce amount of rows\n",
    "print(df.count())"
   ]
  },
  {
   "cell_type": "code",
   "execution_count": 5,
   "id": "6addb714",
   "metadata": {},
   "outputs": [
    {
     "name": "stdout",
     "output_type": "stream",
     "text": [
      "dt                                    0\n",
      "AverageTemperature               364130\n",
      "AverageTemperatureUncertainty    364130\n",
      "City                                  0\n",
      "Country                               0\n",
      "Latitude                              0\n",
      "Longitude                             0\n",
      "dtype: int64\n"
     ]
    }
   ],
   "source": [
    "# Null values in avg temp data only\n",
    "print(df.isna().sum())"
   ]
  },
  {
   "cell_type": "code",
   "execution_count": 6,
   "id": "decf582d",
   "metadata": {},
   "outputs": [],
   "source": [
    "# Convert 'dt' column to datetime format\n",
    "df['dt'] = pd.to_datetime(df['dt'])"
   ]
  },
  {
   "cell_type": "code",
   "execution_count": 7,
   "id": "dfdf70d0",
   "metadata": {},
   "outputs": [],
   "source": [
    "# Filter the DataFrame to include only rows between 2000 and 2013\n",
    "start_date = '2000-01-01'\n",
    "end_date = '2013-12-31'\n",
    "filtered_df = df[(df['dt'] >= start_date) & (df['dt'] <= end_date)]"
   ]
  },
  {
   "cell_type": "code",
   "execution_count": 8,
   "id": "2de26714",
   "metadata": {},
   "outputs": [
    {
     "name": "stdout",
     "output_type": "stream",
     "text": [
      "                dt  AverageTemperature  AverageTemperatureUncertainty    City  \\\n",
      "3074    2000-01-01               3.065                          0.372   Århus   \n",
      "3075    2000-02-01               3.724                          0.241   Århus   \n",
      "3076    2000-03-01               3.976                          0.296   Århus   \n",
      "3077    2000-04-01               8.321                          0.221   Århus   \n",
      "3078    2000-05-01              13.567                          0.253   Århus   \n",
      "...            ...                 ...                            ...     ...   \n",
      "8599207 2013-05-01              11.464                          0.236  Zwolle   \n",
      "8599208 2013-06-01              15.043                          0.261  Zwolle   \n",
      "8599209 2013-07-01              18.775                          0.193  Zwolle   \n",
      "8599210 2013-08-01              18.025                          0.298  Zwolle   \n",
      "8599211 2013-09-01                 NaN                            NaN  Zwolle   \n",
      "\n",
      "             Country Latitude Longitude  \n",
      "3074         Denmark   57.05N    10.33E  \n",
      "3075         Denmark   57.05N    10.33E  \n",
      "3076         Denmark   57.05N    10.33E  \n",
      "3077         Denmark   57.05N    10.33E  \n",
      "3078         Denmark   57.05N    10.33E  \n",
      "...              ...      ...       ...  \n",
      "8599207  Netherlands   52.24N     5.26E  \n",
      "8599208  Netherlands   52.24N     5.26E  \n",
      "8599209  Netherlands   52.24N     5.26E  \n",
      "8599210  Netherlands   52.24N     5.26E  \n",
      "8599211  Netherlands   52.24N     5.26E  \n",
      "\n",
      "[579150 rows x 7 columns]\n"
     ]
    }
   ],
   "source": [
    "# We can see we succesffully filtered by year starting from 2000 and ending at 2013\n",
    "print(filtered_df)"
   ]
  },
  {
   "cell_type": "code",
   "execution_count": 10,
   "id": "f4128865",
   "metadata": {},
   "outputs": [],
   "source": [
    "# Adding year, month, day columns\n",
    "filtered_df.loc[:, 'date_year'] = filtered_df['dt'].dt.year\n",
    "filtered_df.loc[:, 'date_month'] = filtered_df['dt'].dt.month\n",
    "filtered_df.loc[:, 'date_day'] = filtered_df['dt'].dt.day"
   ]
  },
  {
   "cell_type": "code",
   "execution_count": 11,
   "id": "840ffd2b",
   "metadata": {},
   "outputs": [
    {
     "name": "stdout",
     "output_type": "stream",
     "text": [
      "             dt  AverageTemperature  AverageTemperatureUncertainty   City  \\\n",
      "3074 2000-01-01               3.065                          0.372  Århus   \n",
      "3075 2000-02-01               3.724                          0.241  Århus   \n",
      "3076 2000-03-01               3.976                          0.296  Århus   \n",
      "3077 2000-04-01               8.321                          0.221  Århus   \n",
      "3078 2000-05-01              13.567                          0.253  Århus   \n",
      "\n",
      "      Country Latitude Longitude  date_year  date_month  date_day  \n",
      "3074  Denmark   57.05N    10.33E       2000           1         1  \n",
      "3075  Denmark   57.05N    10.33E       2000           2         1  \n",
      "3076  Denmark   57.05N    10.33E       2000           3         1  \n",
      "3077  Denmark   57.05N    10.33E       2000           4         1  \n",
      "3078  Denmark   57.05N    10.33E       2000           5         1  \n"
     ]
    }
   ],
   "source": [
    "# Checking that columns look correct\n",
    "print(filtered_df.head())"
   ]
  },
  {
   "cell_type": "code",
   "execution_count": 12,
   "id": "e5b000ea",
   "metadata": {},
   "outputs": [],
   "source": [
    "# Save the filtered DataFrame to a CSV file\n",
    "filtered_file_path = 'filtered_weather_city_data.csv'\n",
    "filtered_df.to_csv(filtered_file_path, index=False)"
   ]
  },
  {
   "cell_type": "code",
   "execution_count": 21,
   "id": "164e9733",
   "metadata": {},
   "outputs": [],
   "source": [
    "# I then manually uploaded to my AWS S3 bucket using the AWS management console\n",
    "# This variable is just to show the specified file path to my filtered weather data\n",
    "destination_file_path = 'capstone/filtered-data/filtered_weather_data.csv'"
   ]
  },
  {
   "cell_type": "code",
   "execution_count": 13,
   "id": "eb50eac3",
   "metadata": {},
   "outputs": [],
   "source": [
    "# Closing the s3 client\n",
    "s3.close()"
   ]
  },
  {
   "cell_type": "markdown",
   "id": "19243fdc",
   "metadata": {},
   "source": [
    "## Applying same filters for the Country table "
   ]
  },
  {
   "cell_type": "code",
   "execution_count": 14,
   "id": "c96d741f",
   "metadata": {},
   "outputs": [],
   "source": [
    "# Initialize an S3 client \n",
    "s3 = boto3.client('s3')\n",
    "\n",
    "# Define the S3 bucket and file path\n",
    "bucket_name = 'awsbucket3323'\n",
    "country_file_path = 'capstone/raw-data/GlobalLandTemperaturesByCountry.csv'\n",
    "\n",
    "# Read our weather CSV file directly into a DataFrame\n",
    "df = pd.read_csv(f's3://{bucket_name}/{country_file_path}')"
   ]
  },
  {
   "cell_type": "code",
   "execution_count": 15,
   "id": "e724d939",
   "metadata": {},
   "outputs": [
    {
     "name": "stdout",
     "output_type": "stream",
     "text": [
      "           dt  AverageTemperature  AverageTemperatureUncertainty Country\n",
      "0  1743-11-01               4.384                          2.294   Åland\n",
      "1  1743-12-01                 NaN                            NaN   Åland\n",
      "2  1744-01-01                 NaN                            NaN   Åland\n",
      "3  1744-02-01                 NaN                            NaN   Åland\n",
      "4  1744-03-01                 NaN                            NaN   Åland\n",
      "dt                               577462\n",
      "AverageTemperature               544811\n",
      "AverageTemperatureUncertainty    545550\n",
      "Country                          577462\n",
      "dtype: int64\n"
     ]
    }
   ],
   "source": [
    "# A look at our country weather data\n",
    "df_str = df.head().to_string(index=True, header=True)\n",
    "print(df_str) # we dont need data starting from 1743\n",
    "print(df.count()) # counting rows"
   ]
  },
  {
   "cell_type": "code",
   "execution_count": 16,
   "id": "4399ad2a",
   "metadata": {},
   "outputs": [],
   "source": [
    "# Convert 'dt' column to datetime format\n",
    "df['dt'] = pd.to_datetime(df['dt'])"
   ]
  },
  {
   "cell_type": "code",
   "execution_count": 17,
   "id": "f4921fad",
   "metadata": {},
   "outputs": [
    {
     "name": "stdout",
     "output_type": "stream",
     "text": [
      "               dt  AverageTemperature  AverageTemperatureUncertainty   Country\n",
      "3074   2000-01-01               0.197                          0.407     Åland\n",
      "3075   2000-02-01              -0.023                          0.399     Åland\n",
      "3076   2000-03-01               0.615                          0.429     Åland\n",
      "3077   2000-04-01               4.124                          0.348     Åland\n",
      "3078   2000-05-01               8.557                          0.447     Åland\n",
      "...           ...                 ...                            ...       ...\n",
      "577457 2013-05-01              19.059                          1.022  Zimbabwe\n",
      "577458 2013-06-01              17.613                          0.473  Zimbabwe\n",
      "577459 2013-07-01              17.000                          0.453  Zimbabwe\n",
      "577460 2013-08-01              19.759                          0.717  Zimbabwe\n",
      "577461 2013-09-01                 NaN                            NaN  Zimbabwe\n",
      "\n",
      "[40095 rows x 4 columns]\n"
     ]
    }
   ],
   "source": [
    "# Filter the DataFrame to include only rows between 2000 and 2013\n",
    "start_date = '2000-01-01'\n",
    "end_date = '2013-12-31'\n",
    "filtered_df = df[(df['dt'] >= start_date) & (df['dt'] <= end_date)]\n",
    "print(filtered_df) # we can see dt start/end points are correct"
   ]
  },
  {
   "cell_type": "code",
   "execution_count": 21,
   "id": "2808daa7",
   "metadata": {},
   "outputs": [],
   "source": [
    "# Adding year, month, day columns \n",
    "filtered_df.loc[:, 'date_year'] = filtered_df['dt'].dt.year\n",
    "filtered_df.loc[:, 'date_month'] = filtered_df['dt'].dt.month\n",
    "filtered_df.loc[:, 'date_day'] = filtered_df['dt'].dt.day"
   ]
  },
  {
   "cell_type": "code",
   "execution_count": 19,
   "id": "30b2d0c2",
   "metadata": {},
   "outputs": [
    {
     "name": "stdout",
     "output_type": "stream",
     "text": [
      "             dt  AverageTemperature  AverageTemperatureUncertainty Country  \\\n",
      "3074 2000-01-01               0.197                          0.407   Åland   \n",
      "3075 2000-02-01              -0.023                          0.399   Åland   \n",
      "3076 2000-03-01               0.615                          0.429   Åland   \n",
      "3077 2000-04-01               4.124                          0.348   Åland   \n",
      "3078 2000-05-01               8.557                          0.447   Åland   \n",
      "\n",
      "      date_year  date_month  date_day  \n",
      "3074       2000           1         1  \n",
      "3075       2000           2         1  \n",
      "3076       2000           3         1  \n",
      "3077       2000           4         1  \n",
      "3078       2000           5         1  \n"
     ]
    }
   ],
   "source": [
    "# Checking that columns look correct\n",
    "print(filtered_df.head())"
   ]
  },
  {
   "cell_type": "code",
   "execution_count": 20,
   "id": "34f300f1",
   "metadata": {},
   "outputs": [],
   "source": [
    "# Save the filtered DataFrame to a CSV file\n",
    "filtered_file_path = 'filtered_weather_country_data.csv'\n",
    "filtered_df.to_csv(filtered_file_path, index=False)"
   ]
  },
  {
   "cell_type": "code",
   "execution_count": null,
   "id": "a73faa5c",
   "metadata": {},
   "outputs": [],
   "source": [
    "# I then manually uploaded to my AWS S3 bucket using the AWS management console\n",
    "# This variable is just to show the specified file path to my filtered weather data\n",
    "destination_file_path = 'capstone/filtered-data/filtered_weather_country_data.csv'"
   ]
  },
  {
   "cell_type": "code",
   "execution_count": 22,
   "id": "d917b4d3",
   "metadata": {},
   "outputs": [],
   "source": [
    "# Closing the s3 client\n",
    "s3.close()"
   ]
  }
 ],
 "metadata": {
  "kernelspec": {
   "display_name": "Python 3 (ipykernel)",
   "language": "python",
   "name": "python3"
  },
  "language_info": {
   "codemirror_mode": {
    "name": "ipython",
    "version": 3
   },
   "file_extension": ".py",
   "mimetype": "text/x-python",
   "name": "python",
   "nbconvert_exporter": "python",
   "pygments_lexer": "ipython3",
   "version": "3.8.18"
  }
 },
 "nbformat": 4,
 "nbformat_minor": 5
}
